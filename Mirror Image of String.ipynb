{
 "cells": [
  {
   "cell_type": "code",
   "execution_count": 14,
   "id": "f81c80e1",
   "metadata": {},
   "outputs": [
    {
     "name": "stdout",
     "output_type": "stream",
     "text": [
      "The original string is : void\n",
      "The mirror string : voib\n"
     ]
    }
   ],
   "source": [
    "# initializing strings\n",
    "test_str = 'void'\n",
    " \n",
    "# printing original string\n",
    "print(\"The original string is : \" + str(test_str))\n",
    " \n",
    "# initializing mirror dictionary\n",
    "mir_dict = {'b':'d', 'd':'b', 'i':'i', 'o':'o', 'v':'v', 'w':'w', 'x':'x'}\n",
    "res = ''\n",
    " \n",
    "# accessing letters from dictionary\n",
    "for ele in test_str:\n",
    "    if ele in mir_dict:\n",
    "        res += mir_dict[ele]\n",
    "         # if any character not present, flagging to be invalid\n",
    "    else:\n",
    "        res = \"Not Possible\"\n",
    "        break\n",
    " # printing result\n",
    "print(\"The mirror string : \" + str(res))"
   ]
  },
  {
   "cell_type": "code",
   "execution_count": 15,
   "id": "a5cf591c",
   "metadata": {},
   "outputs": [
    {
     "name": "stdout",
     "output_type": "stream",
     "text": [
      "The original string is : void\n",
      "The mirror string : voib\n"
     ]
    }
   ],
   "source": [
    "# Define input string\n",
    "test_str = 'void'\n",
    " \n",
    "# Define mirror dictionary\n",
    "mir_dict = {'b': 'd', 'd': 'b', 'i': 'i', 'o': 'o', 'v': 'v', 'w': 'w', 'x': 'x'}\n",
    " \n",
    "# Reverse the input string\n",
    "rev_str = test_str[::-1]\n",
    " \n",
    "# Initialize result string\n",
    "res = ''\n",
    " \n",
    "# Iterate over reversed string and replace mirrored characters\n",
    "for ele in rev_str:\n",
    "    if ele in mir_dict:\n",
    "        res += mir_dict[ele]\n",
    "    else:\n",
    "        res = \"Not Possible\"\n",
    "        break\n",
    " # Reverse the result string\n",
    "mir_str = res[::-1]\n",
    " \n",
    "# Print the original and mirror strings\n",
    "print(\"The original string is : \" + str(test_str))\n",
    "print(\"The mirror string : \" + str(mir_str))"
   ]
  },
  {
   "cell_type": "code",
   "execution_count": null,
   "id": "b413b3fb",
   "metadata": {},
   "outputs": [],
   "source": []
  }
 ],
 "metadata": {
  "kernelspec": {
   "display_name": "Python 3 (ipykernel)",
   "language": "python",
   "name": "python3"
  },
  "language_info": {
   "codemirror_mode": {
    "name": "ipython",
    "version": 3
   },
   "file_extension": ".py",
   "mimetype": "text/x-python",
   "name": "python",
   "nbconvert_exporter": "python",
   "pygments_lexer": "ipython3",
   "version": "3.9.13"
  }
 },
 "nbformat": 4,
 "nbformat_minor": 5
}
